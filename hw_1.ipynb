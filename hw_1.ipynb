{
 "cells": [
  {
   "cell_type": "code",
   "execution_count": 1,
   "id": "62a600ad",
   "metadata": {},
   "outputs": [],
   "source": [
    "import pandas as pd\n",
    "import numpy as np"
   ]
  },
  {
   "cell_type": "markdown",
   "id": "992ecbb4",
   "metadata": {},
   "source": [
    "## Задание 1"
   ]
  },
  {
   "cell_type": "code",
   "execution_count": 2,
   "id": "709ba22b",
   "metadata": {
    "scrolled": true
   },
   "outputs": [],
   "source": [
    "#читаю csv-файл\n",
    "h_file = pd.read_csv('horse_data.csv')\n",
    "\n",
    "#отбираю нужные столбцы\n",
    "horse = h_file[['surgery?', 'Age', 'rectal temperature','pulse',\n",
    "                'respiratory rate', 'temperature of extremities', 'pain', 'outcome']]\n",
    "\n",
    "#изменяю '?' на NaN\n",
    "horse = horse.replace('?', np.NaN)\n",
    "\n",
    "#исправляю типы данных в столбцах\n",
    "horse['surgery?'] = horse['surgery?'].astype('float64')\n",
    "horse['rectal temperature'] = horse['rectal temperature'].astype('float64')\n",
    "horse['pulse'] = horse['pulse'].astype('float64')\n",
    "horse['respiratory rate'] = horse['respiratory rate'].astype('float64')\n",
    "horse['temperature of extremities'] = horse['temperature of extremities'].astype('float64')\n",
    "horse['pain'] = horse['pain'].astype('float64')\n",
    "horse['outcome'] = horse['outcome'].astype('float64')"
   ]
  },
  {
   "cell_type": "code",
   "execution_count": 3,
   "id": "e756aaf6",
   "metadata": {
    "scrolled": true
   },
   "outputs": [
    {
     "name": "stdout",
     "output_type": "stream",
     "text": [
      "<class 'pandas.core.frame.DataFrame'>\n",
      "RangeIndex: 300 entries, 0 to 299\n",
      "Data columns (total 8 columns):\n",
      " #   Column                      Non-Null Count  Dtype  \n",
      "---  ------                      --------------  -----  \n",
      " 0   surgery?                    299 non-null    float64\n",
      " 1   Age                         300 non-null    int64  \n",
      " 2   rectal temperature          240 non-null    float64\n",
      " 3   pulse                       276 non-null    float64\n",
      " 4   respiratory rate            242 non-null    float64\n",
      " 5   temperature of extremities  244 non-null    float64\n",
      " 6   pain                        245 non-null    float64\n",
      " 7   outcome                     299 non-null    float64\n",
      "dtypes: float64(7), int64(1)\n",
      "memory usage: 18.9 KB\n"
     ]
    },
    {
     "data": {
      "text/html": [
       "<div>\n",
       "<style scoped>\n",
       "    .dataframe tbody tr th:only-of-type {\n",
       "        vertical-align: middle;\n",
       "    }\n",
       "\n",
       "    .dataframe tbody tr th {\n",
       "        vertical-align: top;\n",
       "    }\n",
       "\n",
       "    .dataframe thead th {\n",
       "        text-align: right;\n",
       "    }\n",
       "</style>\n",
       "<table border=\"1\" class=\"dataframe\">\n",
       "  <thead>\n",
       "    <tr style=\"text-align: right;\">\n",
       "      <th></th>\n",
       "      <th>surgery?</th>\n",
       "      <th>Age</th>\n",
       "      <th>rectal temperature</th>\n",
       "      <th>pulse</th>\n",
       "      <th>respiratory rate</th>\n",
       "      <th>temperature of extremities</th>\n",
       "      <th>pain</th>\n",
       "      <th>outcome</th>\n",
       "    </tr>\n",
       "  </thead>\n",
       "  <tbody>\n",
       "    <tr>\n",
       "      <th>0</th>\n",
       "      <td>2.0</td>\n",
       "      <td>1</td>\n",
       "      <td>38.5</td>\n",
       "      <td>66.0</td>\n",
       "      <td>28.0</td>\n",
       "      <td>3.0</td>\n",
       "      <td>5.0</td>\n",
       "      <td>2.0</td>\n",
       "    </tr>\n",
       "    <tr>\n",
       "      <th>1</th>\n",
       "      <td>1.0</td>\n",
       "      <td>1</td>\n",
       "      <td>39.2</td>\n",
       "      <td>88.0</td>\n",
       "      <td>20.0</td>\n",
       "      <td>NaN</td>\n",
       "      <td>3.0</td>\n",
       "      <td>3.0</td>\n",
       "    </tr>\n",
       "    <tr>\n",
       "      <th>2</th>\n",
       "      <td>2.0</td>\n",
       "      <td>1</td>\n",
       "      <td>38.3</td>\n",
       "      <td>40.0</td>\n",
       "      <td>24.0</td>\n",
       "      <td>1.0</td>\n",
       "      <td>3.0</td>\n",
       "      <td>1.0</td>\n",
       "    </tr>\n",
       "    <tr>\n",
       "      <th>3</th>\n",
       "      <td>1.0</td>\n",
       "      <td>9</td>\n",
       "      <td>39.1</td>\n",
       "      <td>164.0</td>\n",
       "      <td>84.0</td>\n",
       "      <td>4.0</td>\n",
       "      <td>2.0</td>\n",
       "      <td>2.0</td>\n",
       "    </tr>\n",
       "    <tr>\n",
       "      <th>4</th>\n",
       "      <td>2.0</td>\n",
       "      <td>1</td>\n",
       "      <td>37.3</td>\n",
       "      <td>104.0</td>\n",
       "      <td>35.0</td>\n",
       "      <td>NaN</td>\n",
       "      <td>NaN</td>\n",
       "      <td>2.0</td>\n",
       "    </tr>\n",
       "  </tbody>\n",
       "</table>\n",
       "</div>"
      ],
      "text/plain": [
       "   surgery?  Age  rectal temperature  pulse  respiratory rate  \\\n",
       "0       2.0    1                38.5   66.0              28.0   \n",
       "1       1.0    1                39.2   88.0              20.0   \n",
       "2       2.0    1                38.3   40.0              24.0   \n",
       "3       1.0    9                39.1  164.0              84.0   \n",
       "4       2.0    1                37.3  104.0              35.0   \n",
       "\n",
       "   temperature of extremities  pain  outcome  \n",
       "0                         3.0   5.0      2.0  \n",
       "1                         NaN   3.0      3.0  \n",
       "2                         1.0   3.0      1.0  \n",
       "3                         4.0   2.0      2.0  \n",
       "4                         NaN   NaN      2.0  "
      ]
     },
     "execution_count": 3,
     "metadata": {},
     "output_type": "execute_result"
    }
   ],
   "source": [
    "horse.info()\n",
    "horse.head()"
   ]
  },
  {
   "cell_type": "markdown",
   "id": "d1406ab1",
   "metadata": {},
   "source": [
    "## Поиск выбросов"
   ]
  },
  {
   "cell_type": "code",
   "execution_count": 4,
   "id": "64d0a504",
   "metadata": {},
   "outputs": [
    {
     "name": "stdout",
     "output_type": "stream",
     "text": [
      "[ 2.  1. nan]\n",
      "[1 9]\n",
      "[ 3. nan  1.  4.  2.]\n",
      "[ 5.  3.  2. nan  4.  1.]\n",
      "[ 2.  3.  1. nan]\n"
     ]
    }
   ],
   "source": [
    "# Столбцы surgery?, Age, temperature of extremities, pain, outcome имеют дискретные значения, которые не отличаются от \n",
    "# возможных. Поэтому в них выбросов - нет\n",
    "\n",
    "print(horse['surgery?'].unique())\n",
    "print(horse['Age'].unique()) #в столбце Age вместо ожидаемого значаения 2,\n",
    "                            #стоит - 9. Принимаем, что произошла ошибка и 9 - это 2\n",
    "print(horse['temperature of extremities'].unique())\n",
    "print(horse['pain'].unique())\n",
    "print(horse['outcome'].unique())"
   ]
  },
  {
   "cell_type": "code",
   "execution_count": 5,
   "id": "46a49764",
   "metadata": {},
   "outputs": [
    {
     "name": "stdout",
     "output_type": "stream",
     "text": [
      "36.74999999999999\n",
      "39.550000000000004\n"
     ]
    }
   ],
   "source": [
    "q1 = horse['rectal temperature'].quantile(0.25)\n",
    "q3 = horse['rectal temperature'].quantile(0.75)\n",
    "iqr = q3 - q1\n",
    "lower_bound = q1 - (1.5 * iqr) \n",
    "upper_bound = q3 + (1.5 * iqr)\n",
    "\n",
    "print(lower_bound)\n",
    "print(upper_bound)\n",
    "\n",
    "#выбросы есть, так как есть значения ниже и выше вычисленных значений"
   ]
  },
  {
   "cell_type": "code",
   "execution_count": 6,
   "id": "482b2c56",
   "metadata": {},
   "outputs": [
    {
     "name": "stdout",
     "output_type": "stream",
     "text": [
      "-12.0\n",
      "148.0\n"
     ]
    }
   ],
   "source": [
    "q1 = horse['pulse'].quantile(0.25)\n",
    "q3 = horse['pulse'].quantile(0.75)\n",
    "iqr = q3 - q1\n",
    "lower_bound = q1 - (1.5 * iqr) \n",
    "upper_bound = q3 + (1.5 * iqr)\n",
    "\n",
    "print(lower_bound)\n",
    "print(upper_bound)\n",
    "\n",
    "#выбросы есть, так как есть значения выше вычисленного значения верхней границы"
   ]
  },
  {
   "cell_type": "code",
   "execution_count": 7,
   "id": "c2316344",
   "metadata": {},
   "outputs": [
    {
     "name": "stdout",
     "output_type": "stream",
     "text": [
      "-7.75\n",
      "62.25\n"
     ]
    }
   ],
   "source": [
    "q1 = horse['respiratory rate'].quantile(0.25)\n",
    "q3 = horse['respiratory rate'].quantile(0.75)\n",
    "iqr = q3 - q1\n",
    "lower_bound = q1 - (1.5 * iqr) \n",
    "upper_bound = q3 + (1.5 * iqr)\n",
    "\n",
    "print(lower_bound)\n",
    "print(upper_bound)\n",
    "\n",
    "#выбросы есть, так как есть значения выше вычисленного значения верхней границы"
   ]
  },
  {
   "cell_type": "markdown",
   "id": "a350d393",
   "metadata": {},
   "source": [
    "## Работа с пропусками"
   ]
  },
  {
   "cell_type": "code",
   "execution_count": 8,
   "id": "435b4a25",
   "metadata": {},
   "outputs": [],
   "source": [
    "#Заполнить пропуск surgery? метрикой - 1, так как боль была сильная,\n",
    "#а значит,с большой долей вероятнсти, операция была проведена\n",
    "horse['surgery?'].fillna( 1 , inplace=True)\n",
    "\n",
    "# Заменяю пропуски rectal temperature медианным значением, так как у большинства лошадей завышена температура,\n",
    "# в следствии болезни. Но из-за шокового состояния может снижаться на некоторые значения.\n",
    "# Не ставлю среднее арифметическое, так как есть выбросы в данном столбце\n",
    "horse['rectal temperature'].fillna(horse['rectal temperature'].median(), inplace=True)\n",
    "\n",
    "# Заменить пропуски respiratory rate медианой, так как документации написано,\n",
    "# что из-за больших колебаний метрика сомнительна\n",
    "horse['respiratory rate'].fillna((round(horse['respiratory rate'].median())), inplace=True)\n",
    "\n",
    "# Заменить пропуски temperature of extremities в соответсвии с температурой и пульсом.\n",
    "# Температура конечностей коррелирует с ректальной температурой, при условии, что она повышена.\n",
    "# При шоке (повышенный пульс), конечности будут холодными\n",
    "# Так как у большинства лошадей пульс повышен, а медиана temperature of extremities = 3, заполняю пропуски значением 3\n",
    "horse['temperature of extremities'].fillna(3, inplace=True)\n",
    "\n",
    "# Замена пропусков pain в соответствии с была ли проведена операция, так как между этими столбцами есть зависимость.\n",
    "# Если боль сильная и/или продолжительная, то нужна операция\n",
    "horse['pain'].fillna(horse.groupby('surgery?')['pain'].transform('median'), inplace=True)\n",
    "\n",
    "#Заполнить пропуск outcome значением - 1(lived), так как температура и пульс были завышены незначительно,\n",
    "#и была проведена операция\n",
    "horse['outcome'].fillna(1 , inplace=True)\n",
    "\n",
    "#Заменяю пропуски pulse на медианное значение (повышенный пульс), так как у большинства лошадей замечена такая тенденция\n",
    "horse['pulse'].fillna(horse['pulse'].median(), inplace=True)"
   ]
  },
  {
   "cell_type": "code",
   "execution_count": 9,
   "id": "e35dcb5b",
   "metadata": {},
   "outputs": [
    {
     "name": "stdout",
     "output_type": "stream",
     "text": [
      "<class 'pandas.core.frame.DataFrame'>\n",
      "RangeIndex: 300 entries, 0 to 299\n",
      "Data columns (total 8 columns):\n",
      " #   Column                      Non-Null Count  Dtype  \n",
      "---  ------                      --------------  -----  \n",
      " 0   surgery?                    300 non-null    float64\n",
      " 1   Age                         300 non-null    int64  \n",
      " 2   rectal temperature          300 non-null    float64\n",
      " 3   pulse                       300 non-null    float64\n",
      " 4   respiratory rate            300 non-null    float64\n",
      " 5   temperature of extremities  300 non-null    float64\n",
      " 6   pain                        300 non-null    float64\n",
      " 7   outcome                     300 non-null    float64\n",
      "dtypes: float64(7), int64(1)\n",
      "memory usage: 18.9 KB\n"
     ]
    }
   ],
   "source": [
    "horse.info()"
   ]
  }
 ],
 "metadata": {
  "kernelspec": {
   "display_name": "Python 3",
   "language": "python",
   "name": "python3"
  },
  "language_info": {
   "codemirror_mode": {
    "name": "ipython",
    "version": 3
   },
   "file_extension": ".py",
   "mimetype": "text/x-python",
   "name": "python",
   "nbconvert_exporter": "python",
   "pygments_lexer": "ipython3",
   "version": "3.8.8"
  }
 },
 "nbformat": 4,
 "nbformat_minor": 5
}
